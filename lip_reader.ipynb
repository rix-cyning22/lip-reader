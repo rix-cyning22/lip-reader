{
  "nbformat": 4,
  "nbformat_minor": 0,
  "metadata": {
    "colab": {
      "provenance": [],
      "gpuType": "T4"
    },
    "kernelspec": {
      "name": "python3",
      "display_name": "Python 3"
    },
    "language_info": {
      "name": "python"
    },
    "accelerator": "GPU"
  },
  "cells": [
    {
      "cell_type": "markdown",
      "source": [
        "#importing dependencies"
      ],
      "metadata": {
        "id": "V_ud6YL33PRS"
      }
    },
    {
      "cell_type": "code",
      "execution_count": null,
      "metadata": {
        "id": "2-V6kNPo1DrR"
      },
      "outputs": [],
      "source": [
        "import tensorflow as tf\n",
        "import os\n",
        "import cv2\n",
        "import numpy as np\n",
        "from matplotlib import pyplot as plt\n",
        "import imageio\n",
        "import gdown # to download data from google drive\n",
        "from google.colab import drive\n",
        "from tensorflow.keras import layers, models, optimizers\n",
        "from tensorflow.keras.callbacks import LearningRateScheduler, ModelCheckpoint, Callback\n",
        "from tensorflow.data import Dataset, AUTOTUNE\n",
        "from tensorflow.keras import backend"
      ]
    },
    {
      "cell_type": "code",
      "source": [
        "device = tf.config.list_physical_devices(\"GPU\")\n",
        "try:\n",
        "  tf.config.experimental.set_memory_growth(device[0], True)\n",
        "except:\n",
        "  pass"
      ],
      "metadata": {
        "id": "0-QejK4g2WJP"
      },
      "execution_count": null,
      "outputs": []
    },
    {
      "cell_type": "code",
      "source": [
        "drive.mount(\"/content/drive\")"
      ],
      "metadata": {
        "colab": {
          "base_uri": "https://localhost:8080/"
        },
        "id": "LO1j6Q8ZS8Wd",
        "outputId": "3beb2728-ad82-4c55-c742-d8564c269290"
      },
      "execution_count": null,
      "outputs": [
        {
          "output_type": "stream",
          "name": "stdout",
          "text": [
            "Mounted at /content/drive\n"
          ]
        }
      ]
    },
    {
      "cell_type": "markdown",
      "source": [
        "#data loading"
      ],
      "metadata": {
        "id": "rv8WLVH_3NiW"
      }
    },
    {
      "cell_type": "code",
      "source": [
        "if \"data.zip\" not in os.listdir():\n",
        "  url = \"https://drive.google.com/uc?id=1YlvpDLix3S-U8fd-gqRwPcWXAXm8JwjL\"\n",
        "  output = \"data.zip\"\n",
        "  gdown.download(url, output)\n",
        "  gdown.extractall(\"data.zip\")"
      ],
      "metadata": {
        "id": "eHIiAZZQ2mZO",
        "colab": {
          "base_uri": "https://localhost:8080/"
        },
        "outputId": "86858e0f-7eb7-400b-e3cd-b66291cba415"
      },
      "execution_count": null,
      "outputs": [
        {
          "output_type": "stream",
          "name": "stderr",
          "text": [
            "Downloading...\n",
            "From: https://drive.google.com/uc?id=1YlvpDLix3S-U8fd-gqRwPcWXAXm8JwjL\n",
            "To: /content/data.zip\n",
            "100%|██████████| 423M/423M [00:14<00:00, 28.8MB/s]\n"
          ]
        }
      ]
    },
    {
      "cell_type": "markdown",
      "source": [
        "## preprocessing video"
      ],
      "metadata": {
        "id": "r0BR_Cjc82nW"
      }
    },
    {
      "cell_type": "code",
      "source": [
        "cascade_path = '/content/drive/MyDrive/lip-reader/mouth-cascade.xml'\n",
        "mouth_cascade = cv2.CascadeClassifier(cascade_path)"
      ],
      "metadata": {
        "id": "DCWyM1f9Uj4c"
      },
      "execution_count": null,
      "outputs": []
    },
    {
      "cell_type": "code",
      "source": [
        "def extract_mouth_loc(img):\n",
        "  lips = mouth_cascade.detectMultiScale(img.numpy(), 1.1, 50)\n",
        "  x, y, w, h = lips[0]\n",
        "  return y-10, y+h+10, x-10, x+w+10"
      ],
      "metadata": {
        "id": "7vgykzdITdzY"
      },
      "execution_count": null,
      "outputs": []
    },
    {
      "cell_type": "code",
      "source": [
        "def preprocess_frame(frame, x_range, y_range):\n",
        "  xs, xe = x_range\n",
        "  ys, ye = y_range\n",
        "  frame = tf.cast(frame[ys: ye, xs: xe], \"float32\")\n",
        "  frame = tf.image.resize(frame, [60, 90])\n",
        "  return frame"
      ],
      "metadata": {
        "id": "UxrVuYpuPryS"
      },
      "execution_count": null,
      "outputs": []
    },
    {
      "cell_type": "code",
      "source": [
        "def load_video(path):\n",
        "  cap = cv2.VideoCapture(path)\n",
        "  frames = []\n",
        "  ret, frame = cap.read()\n",
        "  frame = tf.image.rgb_to_grayscale(frame)\n",
        "\n",
        "  try:\n",
        "    ys, ye, xs, xe = extract_mouth_loc(frame)\n",
        "  except:\n",
        "    ys, ye, xs, xe = 190, 250, 80, 170\n",
        "\n",
        "  frame = preprocess_frame(frame,\n",
        "                           (xs, xe),\n",
        "                           (ys, ye))\n",
        "  frames.append(frame)\n",
        "\n",
        "  for i in range(1, int(cap.get(cv2.CAP_PROP_FRAME_COUNT))):\n",
        "    ret, frame = cap.read()\n",
        "    frame = tf.image.rgb_to_grayscale(frame)\n",
        "    frame = preprocess_frame(frame,\n",
        "                             (xs, xe),\n",
        "                             (ys, ye))\n",
        "    frames.append(frame)\n",
        "  cap.release()\n",
        "  mu = tf.math.reduce_mean(frames)\n",
        "  mu = tf.cast(mu, tf.float32)\n",
        "  sigma = tf.math.reduce_std(frames)\n",
        "  sigma = tf.cast(sigma, tf.float32)\n",
        "  frame_normalized = tf.cast((frames - mu), tf.float32)/sigma\n",
        "  return frame_normalized"
      ],
      "metadata": {
        "id": "LrdUCNN84pNn"
      },
      "execution_count": null,
      "outputs": []
    },
    {
      "cell_type": "markdown",
      "source": [
        "## preprocessing alignments"
      ],
      "metadata": {
        "id": "ifsWM8i887NS"
      }
    },
    {
      "cell_type": "code",
      "source": [
        "possible_chars = \"abcdefghijklmnopqrstuvwxyz?!,.0123456789 \"\n",
        "vocab = list(possible_chars)"
      ],
      "metadata": {
        "id": "hDLacAJHZBcj"
      },
      "execution_count": null,
      "outputs": []
    },
    {
      "cell_type": "code",
      "source": [
        "txt2vec = layers.StringLookup(vocabulary=vocab,\n",
        "                             oov_token=\"_\")\n",
        "vec2txt = layers.StringLookup(vocabulary=txt2vec.get_vocabulary(),\n",
        "                              oov_token=\"_\",\n",
        "                              invert=True)"
      ],
      "metadata": {
        "id": "-5lXTX4YZaZB"
      },
      "execution_count": null,
      "outputs": []
    },
    {
      "cell_type": "code",
      "source": [
        "def load_alignments(path):\n",
        "  with open(path, 'r') as alignment_file:\n",
        "    lines = alignment_file.readlines()\n",
        "  tokens = []\n",
        "  for l in lines:\n",
        "    l = l.split()\n",
        "    if l[2] != \"sil\":\n",
        "      tokens.append(\" \" + l[2])\n",
        "  txt_uni = tf.strings.unicode_split(tokens,\n",
        "                                     input_encoding=\"UTF-8\")\n",
        "  txt_uni = tf.reshape(txt_uni, (-1))\n",
        "  return txt2vec(txt_uni)[1:]"
      ],
      "metadata": {
        "id": "_NNpgjIdbZog"
      },
      "execution_count": null,
      "outputs": []
    },
    {
      "cell_type": "markdown",
      "source": [
        "## Combining them together"
      ],
      "metadata": {
        "id": "Z3zg1cJf979k"
      }
    },
    {
      "cell_type": "code",
      "source": [
        "def load_data(path):\n",
        "  filename = str(path).split(\"/\")[-1].split(\".\")[0]\n",
        "  video_path = f\"/content/data/s1/{filename}.mpg\"\n",
        "  align_path = f\"/content/data/alignments/s1/{filename}.align\"\n",
        "\n",
        "  frames = load_video(video_path)\n",
        "  aligns = load_alignments(align_path)\n",
        "\n",
        "  return frames, aligns"
      ],
      "metadata": {
        "id": "E4SJahBHfcI3"
      },
      "execution_count": null,
      "outputs": []
    },
    {
      "cell_type": "code",
      "source": [
        "test_path = \"/content/data/s1/bbal7s.mpg\"\n",
        "frames, aligns = load_data(test_path)"
      ],
      "metadata": {
        "id": "r80q8-Nj-TX4"
      },
      "execution_count": null,
      "outputs": []
    },
    {
      "cell_type": "code",
      "source": [
        "# for pure string processing it is better to use a tensorflow mappable function\n",
        "def mappable_dataload(path):\n",
        "  return tf.py_function(load_data, [path], (tf.float32, tf.int64))"
      ],
      "metadata": {
        "id": "Y8SDIk-lDf6_"
      },
      "execution_count": null,
      "outputs": []
    },
    {
      "cell_type": "markdown",
      "source": [
        "## Creating data pipeline"
      ],
      "metadata": {
        "id": "h4sluRb_FhAR"
      }
    },
    {
      "cell_type": "code",
      "source": [
        "data = Dataset.list_files(\"/content/data/s1/*.mpg\")\n",
        "data = data.shuffle(500)\n",
        "data = data.map(mappable_dataload)\n",
        "data = data.padded_batch(2, padded_shapes=([75, None, None, None], [40]))\n",
        "data = data.prefetch(AUTOTUNE)"
      ],
      "metadata": {
        "id": "KVLwIBeKFjFf"
      },
      "execution_count": null,
      "outputs": []
    },
    {
      "cell_type": "code",
      "source": [
        "frame, alignment = data.as_numpy_iterator().next()"
      ],
      "metadata": {
        "id": "YCSHT5BsS2kJ"
      },
      "execution_count": null,
      "outputs": []
    },
    {
      "cell_type": "code",
      "source": [
        "alignment.shape"
      ],
      "metadata": {
        "colab": {
          "base_uri": "https://localhost:8080/"
        },
        "id": "wWsRPCYRS8p9",
        "outputId": "5cdbec45-a285-4c56-93ff-177b66e6bc7b"
      },
      "execution_count": null,
      "outputs": [
        {
          "output_type": "execute_result",
          "data": {
            "text/plain": [
              "(2, 40)"
            ]
          },
          "metadata": {},
          "execution_count": 17
        }
      ]
    },
    {
      "cell_type": "markdown",
      "source": [
        "# Creating the model"
      ],
      "metadata": {
        "id": "RP3Vb6WZVnC0"
      }
    },
    {
      "cell_type": "code",
      "source": [
        "tf.random.set_seed(42)"
      ],
      "metadata": {
        "id": "cw8sbmCJhDOH"
      },
      "execution_count": null,
      "outputs": []
    },
    {
      "cell_type": "code",
      "source": [
        "model = models.Sequential([\n",
        "    layers.Conv3D(128, 3,\n",
        "                  input_shape=(75, 60, 90, 1),\n",
        "                  padding=\"same\",\n",
        "                  activation=\"relu\"),\n",
        "    layers.MaxPool3D((1, 2, 2)),\n",
        "\n",
        "    layers.Conv3D(256, 3,\n",
        "                  padding=\"same\",\n",
        "                  activation=\"relu\"),\n",
        "    layers.MaxPool3D((1, 2, 2)),\n",
        "\n",
        "    layers.Conv3D(75, 3,\n",
        "                  padding=\"same\",\n",
        "                  activation=\"relu\"),\n",
        "    layers.MaxPool3D((1, 2, 2)),\n",
        "\n",
        "    layers.TimeDistributed(layers.Flatten()),\n",
        "\n",
        "    layers.Bidirectional(layers.LSTM(128,\n",
        "                                     kernel_initializer=\"Orthogonal\",\n",
        "                                     return_sequences=True)),\n",
        "    layers.Dropout(0.5),\n",
        "\n",
        "    layers.Bidirectional(layers.LSTM(128,\n",
        "                                     kernel_initializer=\"Orthogonal\",\n",
        "                                     return_sequences=True)),\n",
        "    layers.Dropout(0.5),\n",
        "\n",
        "    layers.Dense(txt2vec.vocabulary_size()+1,\n",
        "                 kernel_initializer=\"he_normal\",\n",
        "                 activation=\"softmax\")\n",
        "])"
      ],
      "metadata": {
        "id": "T3UixZIdUk-J"
      },
      "execution_count": null,
      "outputs": []
    },
    {
      "cell_type": "code",
      "source": [
        "model.summary()"
      ],
      "metadata": {
        "colab": {
          "base_uri": "https://localhost:8080/"
        },
        "id": "XyUy-W0fYsqF",
        "outputId": "c159a726-ef6d-4ffd-f166-722d9ce6c255"
      },
      "execution_count": null,
      "outputs": [
        {
          "output_type": "stream",
          "name": "stdout",
          "text": [
            "Model: \"sequential\"\n",
            "_________________________________________________________________\n",
            " Layer (type)                Output Shape              Param #   \n",
            "=================================================================\n",
            " conv3d (Conv3D)             (None, 75, 60, 90, 128)   3584      \n",
            "                                                                 \n",
            " max_pooling3d (MaxPooling3  (None, 75, 30, 45, 128)   0         \n",
            " D)                                                              \n",
            "                                                                 \n",
            " conv3d_1 (Conv3D)           (None, 75, 30, 45, 256)   884992    \n",
            "                                                                 \n",
            " max_pooling3d_1 (MaxPoolin  (None, 75, 15, 22, 256)   0         \n",
            " g3D)                                                            \n",
            "                                                                 \n",
            " conv3d_2 (Conv3D)           (None, 75, 15, 22, 75)    518475    \n",
            "                                                                 \n",
            " max_pooling3d_2 (MaxPoolin  (None, 75, 7, 11, 75)     0         \n",
            " g3D)                                                            \n",
            "                                                                 \n",
            " time_distributed (TimeDist  (None, 75, 5775)          0         \n",
            " ributed)                                                        \n",
            "                                                                 \n",
            " bidirectional (Bidirection  (None, 75, 256)           6045696   \n",
            " al)                                                             \n",
            "                                                                 \n",
            " dropout (Dropout)           (None, 75, 256)           0         \n",
            "                                                                 \n",
            " bidirectional_1 (Bidirecti  (None, 75, 256)           394240    \n",
            " onal)                                                           \n",
            "                                                                 \n",
            " dropout_1 (Dropout)         (None, 75, 256)           0         \n",
            "                                                                 \n",
            " dense (Dense)               (None, 75, 43)            11051     \n",
            "                                                                 \n",
            "=================================================================\n",
            "Total params: 7858038 (29.98 MB)\n",
            "Trainable params: 7858038 (29.98 MB)\n",
            "Non-trainable params: 0 (0.00 Byte)\n",
            "_________________________________________________________________\n"
          ]
        }
      ]
    },
    {
      "cell_type": "markdown",
      "source": [
        "## setting up training and prediction options"
      ],
      "metadata": {
        "id": "he6kj_0FHMr1"
      }
    },
    {
      "cell_type": "markdown",
      "source": [
        "Following things were set up:\n",
        "1. a custom learning rate scheduler\n",
        "2. CTC loss\n",
        "3. A custom callback that prints a random original caption and a predicted one to assess the performance of the model."
      ],
      "metadata": {
        "id": "nqDfwzcYO_hI"
      }
    },
    {
      "cell_type": "code",
      "source": [
        "def decode_string(y):\n",
        "  output_string = vec2txt(y).numpy()\n",
        "  output_string = tf.strings.reduce_join(output_string)\n",
        "  return output_string.numpy()"
      ],
      "metadata": {
        "id": "2E1ZE8UvO4Yr"
      },
      "execution_count": null,
      "outputs": []
    },
    {
      "cell_type": "code",
      "source": [
        "def scheduler(epoch, lr):\n",
        "    if epoch < 30:\n",
        "        return lr\n",
        "    else:\n",
        "        return lr * tf.math.exp(-0.1)"
      ],
      "metadata": {
        "id": "xzYNm0dIOtOg"
      },
      "execution_count": null,
      "outputs": []
    },
    {
      "cell_type": "code",
      "source": [
        "def CTCLoss(y_true, y_pred):\n",
        "    batch_len = tf.cast(tf.shape(y_true)[0], dtype=\"int64\")\n",
        "    input_len = tf.cast(tf.shape(y_pred)[1], dtype=\"int64\")\n",
        "    label_len = tf.cast(tf.shape(y_true)[1], dtype=\"int64\")\n",
        "\n",
        "    input_len = input_len * tf.ones(shape=(batch_len, 1),\n",
        "                                          dtype=\"int64\")\n",
        "    label_len = label_len * tf.ones(shape=(batch_len, 1),\n",
        "                                          dtype=\"int64\")\n",
        "\n",
        "    return tf.keras.backend.ctc_batch_cost(y_true, y_pred,\n",
        "                                           input_len, label_len)"
      ],
      "metadata": {
        "id": "4ogsHu8uHQDX"
      },
      "execution_count": null,
      "outputs": []
    },
    {
      "cell_type": "code",
      "source": [
        "batch_len = tf.cast(2, dtype=\"int64\")\n",
        "input_len = tf.cast(75, dtype=\"int64\")\n",
        "label_len = tf.cast(42, dtype=\"int64\")\n",
        "\n",
        "input_len = input_len * tf.ones(shape=(batch_len, 1), dtype=\"int64\")\n",
        "label_len = label_len * tf.ones(shape=(batch_len, 1), dtype=\"int64\")\n",
        "input_len, label_len"
      ],
      "metadata": {
        "id": "kiGU0mdbl_xD",
        "colab": {
          "base_uri": "https://localhost:8080/"
        },
        "outputId": "1e22edef-fbef-480d-ad90-15414df792dd"
      },
      "execution_count": null,
      "outputs": [
        {
          "output_type": "execute_result",
          "data": {
            "text/plain": [
              "(<tf.Tensor: shape=(2, 1), dtype=int64, numpy=\n",
              " array([[75],\n",
              "        [75]])>,\n",
              " <tf.Tensor: shape=(2, 1), dtype=int64, numpy=\n",
              " array([[42],\n",
              "        [42]])>)"
            ]
          },
          "metadata": {},
          "execution_count": 24
        }
      ]
    },
    {
      "cell_type": "code",
      "source": [
        "class RandomExample(Callback):\n",
        "  def __init__(self, dataset):\n",
        "    self.dataset = dataset.as_numpy_iterator()\n",
        "\n",
        "  def on_epoch_end(self, epoch, logs=None):\n",
        "    data = self.dataset.next()\n",
        "    yhat = self.model.predict(data[0])\n",
        "    decoded = backend.ctc_decode(yhat, [75, 75],\n",
        "                                 greedy=False)[0][0].numpy()\n",
        "    for i in range(len(yhat)):\n",
        "      print(f\"\"\"\n",
        "      Original: {decode_string(data[1][i])}\n",
        "      Prdicted: {decode_string(decoded[i])}\"\"\")\n",
        "      print(\"~\"*250)"
      ],
      "metadata": {
        "id": "RL0-sWSoJAkr"
      },
      "execution_count": null,
      "outputs": []
    },
    {
      "cell_type": "code",
      "source": [
        "model.compile(optimizer=tf.keras.optimizers.Adam(learning_rate=0.0001),\n",
        "              loss=CTCLoss)"
      ],
      "metadata": {
        "id": "yFK3fzAKU5ti"
      },
      "execution_count": null,
      "outputs": []
    },
    {
      "cell_type": "code",
      "source": [
        "train_checkpoint = ModelCheckpoint(\"/content/checkpoints\",\n",
        "                                   save_weights_only=True,\n",
        "                                   monitor=\"loss\")\n",
        "lr_sched = LearningRateScheduler(scheduler)\n",
        "example = RandomExample(data)"
      ],
      "metadata": {
        "id": "i5V0HHUVWWJl"
      },
      "execution_count": null,
      "outputs": []
    },
    {
      "cell_type": "code",
      "source": [
        "val = data.as_numpy_iterator().next()"
      ],
      "metadata": {
        "id": "h7ehv9lfgbTQ"
      },
      "execution_count": null,
      "outputs": []
    },
    {
      "cell_type": "code",
      "source": [
        "pred = model.predict(val[0])"
      ],
      "metadata": {
        "id": "7ZEZePPKWtS5",
        "colab": {
          "base_uri": "https://localhost:8080/"
        },
        "outputId": "1bc26b06-f4f1-4b0c-c4fc-0ef624a7a4e6"
      },
      "execution_count": null,
      "outputs": [
        {
          "output_type": "stream",
          "name": "stdout",
          "text": [
            "1/1 [==============================] - 8s 8s/step\n"
          ]
        }
      ]
    },
    {
      "cell_type": "code",
      "source": [
        "output_string = tf.argmax(pred, axis=2)\n",
        "for s in output_string:\n",
        "  print(decode_string(s))"
      ],
      "metadata": {
        "id": "UcTDZW5lgr50",
        "colab": {
          "base_uri": "https://localhost:8080/"
        },
        "outputId": "a1a48aea-0365-4f75-eab4-f541a67f9aed"
      },
      "execution_count": null,
      "outputs": [
        {
          "output_type": "stream",
          "name": "stdout",
          "text": [
            "b',,,,,,,,,,,,,,,,,,,,,,,9999999999999999999,,,99999999999999999999999aaa3...'\n",
            "b',,,,,99999999999999999999999999999999999999999999999999999999999999999999..'\n"
          ]
        }
      ]
    },
    {
      "cell_type": "code",
      "source": [
        "model.fit(data,\n",
        "          epochs=100,\n",
        "          callbacks=[lr_sched, example, train_checkpoint])"
      ],
      "metadata": {
        "id": "Lh28G8kNhYGM",
        "colab": {
          "base_uri": "https://localhost:8080/",
          "height": 1000
        },
        "outputId": "90e90fef-81be-4aca-ca08-56445967dbe5"
      },
      "execution_count": null,
      "outputs": [
        {
          "output_type": "stream",
          "name": "stdout",
          "text": [
            "Epoch 1/100\n",
            "1/1 [==============================] - 0s 212ms/step\n",
            "\n",
            "      Original: b'bin red in f five soon__________________'\n",
            "      Prdicted: b'le e e e no________________________________________________________________'\n",
            "~~~~~~~~~~~~~~~~~~~~~~~~~~~~~~~~~~~~~~~~~~~~~~~~~~~~~~~~~~~~~~~~~~~~~~~~~~~~~~~~~~~~~~~~~~~~~~~~~~~~~~~~~~~~~~~~~~~~~~~~~~~~~~~~~~~~~~~~~~~~~~~~~~~~~~~~~~~~~~~~~~~~~~~~~~~~~~~~~~~~~~~~~~~~~~~~~~~~~~~~~~~~~~~~~~~~~~~~~~~~~~~~~~~~~~~~~~~~~~~~~~~~~~~~~~\n",
            "\n",
            "      Original: b'set blue in t two now___________________'\n",
            "      Prdicted: b'le e e e e o_______________________________________________________________'\n",
            "~~~~~~~~~~~~~~~~~~~~~~~~~~~~~~~~~~~~~~~~~~~~~~~~~~~~~~~~~~~~~~~~~~~~~~~~~~~~~~~~~~~~~~~~~~~~~~~~~~~~~~~~~~~~~~~~~~~~~~~~~~~~~~~~~~~~~~~~~~~~~~~~~~~~~~~~~~~~~~~~~~~~~~~~~~~~~~~~~~~~~~~~~~~~~~~~~~~~~~~~~~~~~~~~~~~~~~~~~~~~~~~~~~~~~~~~~~~~~~~~~~~~~~~~~~\n",
            "500/500 [==============================] - 564s 1s/step - loss: 84.0180 - lr: 1.0000e-04\n",
            "Epoch 2/100\n",
            "1/1 [==============================] - 0s 191ms/step\n",
            "\n",
            "      Original: b'bin white with n nine again_____________'\n",
            "      Prdicted: b'la e e e eo________________________________________________________________'\n",
            "~~~~~~~~~~~~~~~~~~~~~~~~~~~~~~~~~~~~~~~~~~~~~~~~~~~~~~~~~~~~~~~~~~~~~~~~~~~~~~~~~~~~~~~~~~~~~~~~~~~~~~~~~~~~~~~~~~~~~~~~~~~~~~~~~~~~~~~~~~~~~~~~~~~~~~~~~~~~~~~~~~~~~~~~~~~~~~~~~~~~~~~~~~~~~~~~~~~~~~~~~~~~~~~~~~~~~~~~~~~~~~~~~~~~~~~~~~~~~~~~~~~~~~~~~~\n",
            "\n",
            "      Original: b'lay green in f three again______________'\n",
            "      Prdicted: b'la e e e oeo_______________________________________________________________'\n",
            "~~~~~~~~~~~~~~~~~~~~~~~~~~~~~~~~~~~~~~~~~~~~~~~~~~~~~~~~~~~~~~~~~~~~~~~~~~~~~~~~~~~~~~~~~~~~~~~~~~~~~~~~~~~~~~~~~~~~~~~~~~~~~~~~~~~~~~~~~~~~~~~~~~~~~~~~~~~~~~~~~~~~~~~~~~~~~~~~~~~~~~~~~~~~~~~~~~~~~~~~~~~~~~~~~~~~~~~~~~~~~~~~~~~~~~~~~~~~~~~~~~~~~~~~~~\n",
            "500/500 [==============================] - 536s 1s/step - loss: 71.6494 - lr: 1.0000e-04\n",
            "Epoch 3/100\n",
            "1/1 [==============================] - 0s 216ms/step\n",
            "\n",
            "      Original: b'place blue in b eight please____________'\n",
            "      Prdicted: b'la e e e ea________________________________________________________________'\n",
            "~~~~~~~~~~~~~~~~~~~~~~~~~~~~~~~~~~~~~~~~~~~~~~~~~~~~~~~~~~~~~~~~~~~~~~~~~~~~~~~~~~~~~~~~~~~~~~~~~~~~~~~~~~~~~~~~~~~~~~~~~~~~~~~~~~~~~~~~~~~~~~~~~~~~~~~~~~~~~~~~~~~~~~~~~~~~~~~~~~~~~~~~~~~~~~~~~~~~~~~~~~~~~~~~~~~~~~~~~~~~~~~~~~~~~~~~~~~~~~~~~~~~~~~~~~\n",
            "\n",
            "      Original: b'set red in t nine soon__________________'\n",
            "      Prdicted: b'la e e e oa________________________________________________________________'\n",
            "~~~~~~~~~~~~~~~~~~~~~~~~~~~~~~~~~~~~~~~~~~~~~~~~~~~~~~~~~~~~~~~~~~~~~~~~~~~~~~~~~~~~~~~~~~~~~~~~~~~~~~~~~~~~~~~~~~~~~~~~~~~~~~~~~~~~~~~~~~~~~~~~~~~~~~~~~~~~~~~~~~~~~~~~~~~~~~~~~~~~~~~~~~~~~~~~~~~~~~~~~~~~~~~~~~~~~~~~~~~~~~~~~~~~~~~~~~~~~~~~~~~~~~~~~~\n",
            "500/500 [==============================] - 535s 1s/step - loss: 68.2331 - lr: 1.0000e-04\n",
            "Epoch 4/100\n",
            "1/1 [==============================] - 0s 195ms/step\n",
            "\n",
            "      Original: b'set white with j zero please____________'\n",
            "      Prdicted: b'la e e e on________________________________________________________________'\n",
            "~~~~~~~~~~~~~~~~~~~~~~~~~~~~~~~~~~~~~~~~~~~~~~~~~~~~~~~~~~~~~~~~~~~~~~~~~~~~~~~~~~~~~~~~~~~~~~~~~~~~~~~~~~~~~~~~~~~~~~~~~~~~~~~~~~~~~~~~~~~~~~~~~~~~~~~~~~~~~~~~~~~~~~~~~~~~~~~~~~~~~~~~~~~~~~~~~~~~~~~~~~~~~~~~~~~~~~~~~~~~~~~~~~~~~~~~~~~~~~~~~~~~~~~~~~\n",
            "\n",
            "      Original: b'set white in o zero now_________________'\n",
            "      Prdicted: b'la e e e on________________________________________________________________'\n",
            "~~~~~~~~~~~~~~~~~~~~~~~~~~~~~~~~~~~~~~~~~~~~~~~~~~~~~~~~~~~~~~~~~~~~~~~~~~~~~~~~~~~~~~~~~~~~~~~~~~~~~~~~~~~~~~~~~~~~~~~~~~~~~~~~~~~~~~~~~~~~~~~~~~~~~~~~~~~~~~~~~~~~~~~~~~~~~~~~~~~~~~~~~~~~~~~~~~~~~~~~~~~~~~~~~~~~~~~~~~~~~~~~~~~~~~~~~~~~~~~~~~~~~~~~~~\n",
            "500/500 [==============================] - 535s 1s/step - loss: 65.3013 - lr: 1.0000e-04\n",
            "Epoch 5/100\n",
            "1/1 [==============================] - 0s 222ms/step\n",
            "\n",
            "      Original: b'set blue in t three soon________________'\n",
            "      Prdicted: b'la re e ean________________________________________________________________'\n",
            "~~~~~~~~~~~~~~~~~~~~~~~~~~~~~~~~~~~~~~~~~~~~~~~~~~~~~~~~~~~~~~~~~~~~~~~~~~~~~~~~~~~~~~~~~~~~~~~~~~~~~~~~~~~~~~~~~~~~~~~~~~~~~~~~~~~~~~~~~~~~~~~~~~~~~~~~~~~~~~~~~~~~~~~~~~~~~~~~~~~~~~~~~~~~~~~~~~~~~~~~~~~~~~~~~~~~~~~~~~~~~~~~~~~~~~~~~~~~~~~~~~~~~~~~~~\n",
            "\n",
            "      Original: b'set red at b three again________________'\n",
            "      Prdicted: b'la re e ean________________________________________________________________'\n",
            "~~~~~~~~~~~~~~~~~~~~~~~~~~~~~~~~~~~~~~~~~~~~~~~~~~~~~~~~~~~~~~~~~~~~~~~~~~~~~~~~~~~~~~~~~~~~~~~~~~~~~~~~~~~~~~~~~~~~~~~~~~~~~~~~~~~~~~~~~~~~~~~~~~~~~~~~~~~~~~~~~~~~~~~~~~~~~~~~~~~~~~~~~~~~~~~~~~~~~~~~~~~~~~~~~~~~~~~~~~~~~~~~~~~~~~~~~~~~~~~~~~~~~~~~~~\n",
            "500/500 [==============================] - 533s 1s/step - loss: 63.0476 - lr: 1.0000e-04\n",
            "Epoch 6/100\n",
            "1/1 [==============================] - 0s 180ms/step\n",
            "\n",
            "      Original: b'lay white at l five again_______________'\n",
            "      Prdicted: b'la re t e o________________________________________________________________'\n",
            "~~~~~~~~~~~~~~~~~~~~~~~~~~~~~~~~~~~~~~~~~~~~~~~~~~~~~~~~~~~~~~~~~~~~~~~~~~~~~~~~~~~~~~~~~~~~~~~~~~~~~~~~~~~~~~~~~~~~~~~~~~~~~~~~~~~~~~~~~~~~~~~~~~~~~~~~~~~~~~~~~~~~~~~~~~~~~~~~~~~~~~~~~~~~~~~~~~~~~~~~~~~~~~~~~~~~~~~~~~~~~~~~~~~~~~~~~~~~~~~~~~~~~~~~~~\n",
            "\n",
            "      Original: b'place red at c nine again_______________'\n",
            "      Prdicted: b'la re t e ean______________________________________________________________'\n",
            "~~~~~~~~~~~~~~~~~~~~~~~~~~~~~~~~~~~~~~~~~~~~~~~~~~~~~~~~~~~~~~~~~~~~~~~~~~~~~~~~~~~~~~~~~~~~~~~~~~~~~~~~~~~~~~~~~~~~~~~~~~~~~~~~~~~~~~~~~~~~~~~~~~~~~~~~~~~~~~~~~~~~~~~~~~~~~~~~~~~~~~~~~~~~~~~~~~~~~~~~~~~~~~~~~~~~~~~~~~~~~~~~~~~~~~~~~~~~~~~~~~~~~~~~~~\n",
            "500/500 [==============================] - 533s 1s/step - loss: 61.2281 - lr: 1.0000e-04\n",
            "Epoch 7/100\n",
            "1/1 [==============================] - 0s 180ms/step\n",
            "\n",
            "      Original: b'bin red in z six now____________________'\n",
            "      Prdicted: b'la re t e on_______________________________________________________________'\n",
            "~~~~~~~~~~~~~~~~~~~~~~~~~~~~~~~~~~~~~~~~~~~~~~~~~~~~~~~~~~~~~~~~~~~~~~~~~~~~~~~~~~~~~~~~~~~~~~~~~~~~~~~~~~~~~~~~~~~~~~~~~~~~~~~~~~~~~~~~~~~~~~~~~~~~~~~~~~~~~~~~~~~~~~~~~~~~~~~~~~~~~~~~~~~~~~~~~~~~~~~~~~~~~~~~~~~~~~~~~~~~~~~~~~~~~~~~~~~~~~~~~~~~~~~~~~\n",
            "\n",
            "      Original: b'bin blue at s zero now__________________'\n",
            "      Prdicted: b'la re t e on_______________________________________________________________'\n",
            "~~~~~~~~~~~~~~~~~~~~~~~~~~~~~~~~~~~~~~~~~~~~~~~~~~~~~~~~~~~~~~~~~~~~~~~~~~~~~~~~~~~~~~~~~~~~~~~~~~~~~~~~~~~~~~~~~~~~~~~~~~~~~~~~~~~~~~~~~~~~~~~~~~~~~~~~~~~~~~~~~~~~~~~~~~~~~~~~~~~~~~~~~~~~~~~~~~~~~~~~~~~~~~~~~~~~~~~~~~~~~~~~~~~~~~~~~~~~~~~~~~~~~~~~~~\n",
            "500/500 [==============================] - 528s 1s/step - loss: 59.2988 - lr: 1.0000e-04\n",
            "Epoch 8/100\n",
            "1/1 [==============================] - 0s 177ms/step\n",
            "\n",
            "      Original: b'set red with v three again______________'\n",
            "      Prdicted: b'la re t e eae______________________________________________________________'\n",
            "~~~~~~~~~~~~~~~~~~~~~~~~~~~~~~~~~~~~~~~~~~~~~~~~~~~~~~~~~~~~~~~~~~~~~~~~~~~~~~~~~~~~~~~~~~~~~~~~~~~~~~~~~~~~~~~~~~~~~~~~~~~~~~~~~~~~~~~~~~~~~~~~~~~~~~~~~~~~~~~~~~~~~~~~~~~~~~~~~~~~~~~~~~~~~~~~~~~~~~~~~~~~~~~~~~~~~~~~~~~~~~~~~~~~~~~~~~~~~~~~~~~~~~~~~~\n",
            "\n",
            "      Original: b'bin blue by f seven soon________________'\n",
            "      Prdicted: b'la re t e o________________________________________________________________'\n",
            "~~~~~~~~~~~~~~~~~~~~~~~~~~~~~~~~~~~~~~~~~~~~~~~~~~~~~~~~~~~~~~~~~~~~~~~~~~~~~~~~~~~~~~~~~~~~~~~~~~~~~~~~~~~~~~~~~~~~~~~~~~~~~~~~~~~~~~~~~~~~~~~~~~~~~~~~~~~~~~~~~~~~~~~~~~~~~~~~~~~~~~~~~~~~~~~~~~~~~~~~~~~~~~~~~~~~~~~~~~~~~~~~~~~~~~~~~~~~~~~~~~~~~~~~~~\n",
            "500/500 [==============================] - 529s 1s/step - loss: 57.4693 - lr: 1.0000e-04\n",
            "Epoch 9/100\n"
          ]
        },
        {
          "output_type": "error",
          "ename": "UnknownError",
          "evalue": "ignored",
          "traceback": [
            "\u001b[0;31m---------------------------------------------------------------------------\u001b[0m",
            "\u001b[0;31mUnknownError\u001b[0m                              Traceback (most recent call last)",
            "\u001b[0;32m<ipython-input-31-6a2de8c9ccfc>\u001b[0m in \u001b[0;36m<cell line: 1>\u001b[0;34m()\u001b[0m\n\u001b[0;32m----> 1\u001b[0;31m model.fit(data,\n\u001b[0m\u001b[1;32m      2\u001b[0m           \u001b[0mepochs\u001b[0m\u001b[0;34m=\u001b[0m\u001b[0;36m100\u001b[0m\u001b[0;34m,\u001b[0m\u001b[0;34m\u001b[0m\u001b[0;34m\u001b[0m\u001b[0m\n\u001b[1;32m      3\u001b[0m           callbacks=[lr_sched, example, train_checkpoint])\n",
            "\u001b[0;32m/usr/local/lib/python3.10/dist-packages/keras/src/utils/traceback_utils.py\u001b[0m in \u001b[0;36merror_handler\u001b[0;34m(*args, **kwargs)\u001b[0m\n\u001b[1;32m     68\u001b[0m             \u001b[0;31m# To get the full stack trace, call:\u001b[0m\u001b[0;34m\u001b[0m\u001b[0;34m\u001b[0m\u001b[0m\n\u001b[1;32m     69\u001b[0m             \u001b[0;31m# `tf.debugging.disable_traceback_filtering()`\u001b[0m\u001b[0;34m\u001b[0m\u001b[0;34m\u001b[0m\u001b[0m\n\u001b[0;32m---> 70\u001b[0;31m             \u001b[0;32mraise\u001b[0m \u001b[0me\u001b[0m\u001b[0;34m.\u001b[0m\u001b[0mwith_traceback\u001b[0m\u001b[0;34m(\u001b[0m\u001b[0mfiltered_tb\u001b[0m\u001b[0;34m)\u001b[0m \u001b[0;32mfrom\u001b[0m \u001b[0;32mNone\u001b[0m\u001b[0;34m\u001b[0m\u001b[0;34m\u001b[0m\u001b[0m\n\u001b[0m\u001b[1;32m     71\u001b[0m         \u001b[0;32mfinally\u001b[0m\u001b[0;34m:\u001b[0m\u001b[0;34m\u001b[0m\u001b[0;34m\u001b[0m\u001b[0m\n\u001b[1;32m     72\u001b[0m             \u001b[0;32mdel\u001b[0m \u001b[0mfiltered_tb\u001b[0m\u001b[0;34m\u001b[0m\u001b[0;34m\u001b[0m\u001b[0m\n",
            "\u001b[0;32m/usr/local/lib/python3.10/dist-packages/tensorflow/python/eager/execute.py\u001b[0m in \u001b[0;36mquick_execute\u001b[0;34m(op_name, num_outputs, inputs, attrs, ctx, name)\u001b[0m\n\u001b[1;32m     58\u001b[0m         \u001b[0;32mfor\u001b[0m \u001b[0mt\u001b[0m \u001b[0;32min\u001b[0m \u001b[0minputs\u001b[0m\u001b[0;34m\u001b[0m\u001b[0;34m\u001b[0m\u001b[0m\n\u001b[1;32m     59\u001b[0m     ]\n\u001b[0;32m---> 60\u001b[0;31m     tensors = pywrap_tfe.TFE_Py_Execute(ctx._handle, device_name, op_name,\n\u001b[0m\u001b[1;32m     61\u001b[0m                                         inputs, attrs, num_outputs)\n\u001b[1;32m     62\u001b[0m   \u001b[0;32mexcept\u001b[0m \u001b[0mcore\u001b[0m\u001b[0;34m.\u001b[0m\u001b[0m_NotOkStatusException\u001b[0m \u001b[0;32mas\u001b[0m \u001b[0me\u001b[0m\u001b[0;34m:\u001b[0m\u001b[0;34m\u001b[0m\u001b[0;34m\u001b[0m\u001b[0m\n",
            "\u001b[0;31mUnknownError\u001b[0m: Graph execution error:\n\nDetected at node EagerPyFunc defined at (most recent call last):\n<stack traces unavailable>\nDetected at node EagerPyFunc defined at (most recent call last):\n<stack traces unavailable>\n2 root error(s) found.\n  (0) UNKNOWN:  InvalidArgumentError: {{function_node __wrapped__Squeeze_device_/job:localhost/replica:0/task:0/device:GPU:0}} Can not squeeze dim[0], expected a dimension of 1, got 56 [Op:Squeeze] name: \nTraceback (most recent call last):\n\n  File \"/usr/local/lib/python3.10/dist-packages/tensorflow/python/ops/script_ops.py\", line 268, in __call__\n    return func(device, token, args)\n\n  File \"/usr/local/lib/python3.10/dist-packages/tensorflow/python/ops/script_ops.py\", line 146, in __call__\n    outputs = self._call(device, args)\n\n  File \"/usr/local/lib/python3.10/dist-packages/tensorflow/python/ops/script_ops.py\", line 153, in _call\n    ret = self._func(*args)\n\n  File \"/usr/local/lib/python3.10/dist-packages/tensorflow/python/autograph/impl/api.py\", line 643, in wrapper\n    return func(*args, **kwargs)\n\n  File \"<ipython-input-12-65ec8e96e72b>\", line 6, in load_data\n    frames = load_video(video_path)\n\n  File \"<ipython-input-8-64e31d8e2d6c>\", line 12, in load_video\n    frame = preprocess_frame(frame,\n\n  File \"<ipython-input-7-c6d0c92cb0a6>\", line 5, in preprocess_frame\n    frame = tf.image.resize(frame, [60, 90])\n\n  File \"/usr/local/lib/python3.10/dist-packages/tensorflow/python/util/traceback_utils.py\", line 153, in error_handler\n    raise e.with_traceback(filtered_tb) from None\n\n  File \"/usr/local/lib/python3.10/dist-packages/tensorflow/python/framework/ops.py\", line 5888, in raise_from_not_ok_status\n    raise core._status_to_exception(e) from None  # pylint: disable=protected-access\n\ntensorflow.python.framework.errors_impl.InvalidArgumentError: {{function_node __wrapped__Squeeze_device_/job:localhost/replica:0/task:0/device:GPU:0}} Can not squeeze dim[0], expected a dimension of 1, got 56 [Op:Squeeze] name: \n\n\n\t [[{{node EagerPyFunc}}]]\n\t [[IteratorGetNext]]\n\t [[gradient_tape/CTCLoss/Shape/_84]]\n  (1) UNKNOWN:  InvalidArgumentError: {{function_node __wrapped__Squeeze_device_/job:localhost/replica:0/task:0/device:GPU:0}} Can not squeeze dim[0], expected a dimension of 1, got 56 [Op:Squeeze] name: \nTraceback (most recent call last):\n\n  File \"/usr/local/lib/python3.10/dist-packages/tensorflow/python/ops/script_ops.py\", line 268, in __call__\n    return func(device, token, args)\n\n  File \"/usr/local/lib/python3.10/dist-packages/tensorflow/python/ops/script_ops.py\", line 146, in __call__\n    outputs = self._call(device, args)\n\n  File \"/usr/local/lib/python3.10/dist-packages/tensorflow/python/ops/script_ops.py\", line 153, in _call\n    ret = self._func(*args)\n\n  File \"/usr/local/lib/python3.10/dist-packages/tensorflow/python/autograph/impl/api.py\", line 643, in wrapper\n    return func(*args, **kwargs)\n\n  File \"<ipython-input-12-65ec8e96e72b>\", line 6, in load_data\n    frames = load_video(video_path)\n\n  File \"<ipython-input-8-64e31d8e2d6c>\", line 12, in load_video\n    frame = preprocess_frame(frame,\n\n  File \"<ipython-input-7-c6d0c92cb0a6>\", line 5, in preprocess_frame\n    frame = tf.image.resize(frame, [60, 90])\n\n  File \"/usr/local/lib/python3.10/dist-packages/tensorflow/python/util/traceback_utils.py\", line 153, in error_handler\n    raise e.with_traceback(filtered_tb) from None\n\n  File \"/usr/local/lib/python3.10/dist-packages/tensorflow/python/framework/ops.py\", line 5888, in raise_from_not_ok_status\n    raise core._status_to_exception(e) from None  # pylint: disable=protected-access\n\ntensorflow.python.framework.errors_impl.InvalidArgumentError: {{function_node __wrapped__Squeeze_device_/job:localhost/replica:0/task:0/device:GPU:0}} Can not squeeze dim[0], expected a dimension of 1, got 56 [Op:Squeeze] name: \n\n\n\t [[{{node EagerPyFunc}}]]\n\t [[IteratorGetNext]]\n0 successful operations.\n0 derived errors ignored. [Op:__inference_train_function_26882]"
          ]
        }
      ]
    },
    {
      "cell_type": "code",
      "source": [],
      "metadata": {
        "id": "v0FnopOdktHj"
      },
      "execution_count": null,
      "outputs": []
    }
  ]
}